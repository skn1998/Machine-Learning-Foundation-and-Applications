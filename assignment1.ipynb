{
 "cells": [
  {
   "cell_type": "markdown",
   "metadata": {
    "id": "6y8zrasK0r2Y"
   },
   "source": [
    "# **TUTORIAL 6**\n",
    "# Distance Based Classification"
   ]
  },
  {
   "cell_type": "markdown",
   "metadata": {
    "id": "eVEW-aBo4gka"
   },
   "source": [
    "In pattern recognition, the k-nearest neighbors algorithm is a non-parametric method used for classification and regression.It belongs to the supervised learning domain.\n",
    "\n",
    "We will understand it with a practice example, Steps we are going to follow are :\n",
    "\n",
    "1) Import important libraries\n",
    "\n",
    "2) Importing Data\n",
    "\n",
    "3) Encoding\n",
    "\n",
    "4)Training and Test Data\n",
    "\n",
    "5) Visualization of Data\n",
    "\n",
    "6) Nearest Neighbour Classifier\n",
    "\n",
    "7) k Nearest Neighbour\n",
    "\n",
    "8) Nearest Mean Classifier\n",
    "\n",
    "9) Compare Results\n",
    "\n",
    "10) sklearn Library\n",
    "\n",
    "---\n",
    "\n",
    "\n",
    "\n",
    "---\n",
    "\n"
   ]
  },
  {
   "cell_type": "markdown",
   "metadata": {
    "id": "uHdX_UCj8QVO"
   },
   "source": [
    "**1) Importing important libraries**"
   ]
  },
  {
   "cell_type": "code",
   "execution_count": 75,
   "metadata": {
    "id": "Ca48WZPe853i"
   },
   "outputs": [],
   "source": [
    "import pandas as pd\n",
    "import matplotlib.pyplot as plt\n",
    "import numpy as np\n",
    "from sklearn.datasets import load_iris"
   ]
  },
  {
   "cell_type": "markdown",
   "metadata": {
    "id": "Q3ajjX6OI8HC"
   },
   "source": [
    "**2) Importing Data**\n",
    "\n",
    "We will be working on the Iris dataset today."
   ]
  },
  {
   "cell_type": "code",
   "execution_count": 76,
   "metadata": {
    "id": "JVB0atL7Io6K"
   },
   "outputs": [],
   "source": [
    "data = load_iris()\n",
    "df = pd.DataFrame(data.data, columns=data.feature_names)\n",
    "df['Species']=data.target "
   ]
  },
  {
   "cell_type": "code",
   "execution_count": 77,
   "metadata": {
    "colab": {
     "base_uri": "https://localhost:8080/",
     "height": 195
    },
    "id": "XMn096JBRGm2",
    "outputId": "d5203652-53f1-4b56-ee0e-8bd63e93a496"
   },
   "outputs": [
    {
     "data": {
      "text/html": [
       "<div>\n",
       "<style scoped>\n",
       "    .dataframe tbody tr th:only-of-type {\n",
       "        vertical-align: middle;\n",
       "    }\n",
       "\n",
       "    .dataframe tbody tr th {\n",
       "        vertical-align: top;\n",
       "    }\n",
       "\n",
       "    .dataframe thead th {\n",
       "        text-align: right;\n",
       "    }\n",
       "</style>\n",
       "<table border=\"1\" class=\"dataframe\">\n",
       "  <thead>\n",
       "    <tr style=\"text-align: right;\">\n",
       "      <th></th>\n",
       "      <th>sepal length (cm)</th>\n",
       "      <th>sepal width (cm)</th>\n",
       "      <th>petal length (cm)</th>\n",
       "      <th>petal width (cm)</th>\n",
       "      <th>Species</th>\n",
       "    </tr>\n",
       "  </thead>\n",
       "  <tbody>\n",
       "    <tr>\n",
       "      <th>0</th>\n",
       "      <td>5.1</td>\n",
       "      <td>3.5</td>\n",
       "      <td>1.4</td>\n",
       "      <td>0.2</td>\n",
       "      <td>0</td>\n",
       "    </tr>\n",
       "    <tr>\n",
       "      <th>1</th>\n",
       "      <td>4.9</td>\n",
       "      <td>3.0</td>\n",
       "      <td>1.4</td>\n",
       "      <td>0.2</td>\n",
       "      <td>0</td>\n",
       "    </tr>\n",
       "    <tr>\n",
       "      <th>2</th>\n",
       "      <td>4.7</td>\n",
       "      <td>3.2</td>\n",
       "      <td>1.3</td>\n",
       "      <td>0.2</td>\n",
       "      <td>0</td>\n",
       "    </tr>\n",
       "    <tr>\n",
       "      <th>3</th>\n",
       "      <td>4.6</td>\n",
       "      <td>3.1</td>\n",
       "      <td>1.5</td>\n",
       "      <td>0.2</td>\n",
       "      <td>0</td>\n",
       "    </tr>\n",
       "    <tr>\n",
       "      <th>4</th>\n",
       "      <td>5.0</td>\n",
       "      <td>3.6</td>\n",
       "      <td>1.4</td>\n",
       "      <td>0.2</td>\n",
       "      <td>0</td>\n",
       "    </tr>\n",
       "  </tbody>\n",
       "</table>\n",
       "</div>"
      ],
      "text/plain": [
       "   sepal length (cm)  sepal width (cm)  petal length (cm)  petal width (cm)  \\\n",
       "0                5.1               3.5                1.4               0.2   \n",
       "1                4.9               3.0                1.4               0.2   \n",
       "2                4.7               3.2                1.3               0.2   \n",
       "3                4.6               3.1                1.5               0.2   \n",
       "4                5.0               3.6                1.4               0.2   \n",
       "\n",
       "   Species  \n",
       "0        0  \n",
       "1        0  \n",
       "2        0  \n",
       "3        0  \n",
       "4        0  "
      ]
     },
     "execution_count": 77,
     "metadata": {},
     "output_type": "execute_result"
    }
   ],
   "source": [
    "df.head()"
   ]
  },
  {
   "cell_type": "code",
   "execution_count": 78,
   "metadata": {},
   "outputs": [
    {
     "data": {
      "text/plain": [
       "sepal length (cm)    0\n",
       "sepal width (cm)     0\n",
       "petal length (cm)    0\n",
       "petal width (cm)     0\n",
       "Species              0\n",
       "dtype: int64"
      ]
     },
     "execution_count": 78,
     "metadata": {},
     "output_type": "execute_result"
    }
   ],
   "source": [
    "df.isnull().sum()"
   ]
  },
  {
   "cell_type": "code",
   "execution_count": 79,
   "metadata": {},
   "outputs": [
    {
     "data": {
      "text/html": [
       "<div>\n",
       "<style scoped>\n",
       "    .dataframe tbody tr th:only-of-type {\n",
       "        vertical-align: middle;\n",
       "    }\n",
       "\n",
       "    .dataframe tbody tr th {\n",
       "        vertical-align: top;\n",
       "    }\n",
       "\n",
       "    .dataframe thead th {\n",
       "        text-align: right;\n",
       "    }\n",
       "</style>\n",
       "<table border=\"1\" class=\"dataframe\">\n",
       "  <thead>\n",
       "    <tr style=\"text-align: right;\">\n",
       "      <th></th>\n",
       "      <th>sepal length (cm)</th>\n",
       "      <th>sepal width (cm)</th>\n",
       "      <th>petal length (cm)</th>\n",
       "      <th>petal width (cm)</th>\n",
       "      <th>Species</th>\n",
       "    </tr>\n",
       "  </thead>\n",
       "  <tbody>\n",
       "    <tr>\n",
       "      <th>count</th>\n",
       "      <td>150.000000</td>\n",
       "      <td>150.000000</td>\n",
       "      <td>150.000000</td>\n",
       "      <td>150.000000</td>\n",
       "      <td>150.000000</td>\n",
       "    </tr>\n",
       "    <tr>\n",
       "      <th>mean</th>\n",
       "      <td>5.843333</td>\n",
       "      <td>3.057333</td>\n",
       "      <td>3.758000</td>\n",
       "      <td>1.199333</td>\n",
       "      <td>1.000000</td>\n",
       "    </tr>\n",
       "    <tr>\n",
       "      <th>std</th>\n",
       "      <td>0.828066</td>\n",
       "      <td>0.435866</td>\n",
       "      <td>1.765298</td>\n",
       "      <td>0.762238</td>\n",
       "      <td>0.819232</td>\n",
       "    </tr>\n",
       "    <tr>\n",
       "      <th>min</th>\n",
       "      <td>4.300000</td>\n",
       "      <td>2.000000</td>\n",
       "      <td>1.000000</td>\n",
       "      <td>0.100000</td>\n",
       "      <td>0.000000</td>\n",
       "    </tr>\n",
       "    <tr>\n",
       "      <th>25%</th>\n",
       "      <td>5.100000</td>\n",
       "      <td>2.800000</td>\n",
       "      <td>1.600000</td>\n",
       "      <td>0.300000</td>\n",
       "      <td>0.000000</td>\n",
       "    </tr>\n",
       "    <tr>\n",
       "      <th>50%</th>\n",
       "      <td>5.800000</td>\n",
       "      <td>3.000000</td>\n",
       "      <td>4.350000</td>\n",
       "      <td>1.300000</td>\n",
       "      <td>1.000000</td>\n",
       "    </tr>\n",
       "    <tr>\n",
       "      <th>75%</th>\n",
       "      <td>6.400000</td>\n",
       "      <td>3.300000</td>\n",
       "      <td>5.100000</td>\n",
       "      <td>1.800000</td>\n",
       "      <td>2.000000</td>\n",
       "    </tr>\n",
       "    <tr>\n",
       "      <th>max</th>\n",
       "      <td>7.900000</td>\n",
       "      <td>4.400000</td>\n",
       "      <td>6.900000</td>\n",
       "      <td>2.500000</td>\n",
       "      <td>2.000000</td>\n",
       "    </tr>\n",
       "  </tbody>\n",
       "</table>\n",
       "</div>"
      ],
      "text/plain": [
       "       sepal length (cm)  sepal width (cm)  petal length (cm)  \\\n",
       "count         150.000000        150.000000         150.000000   \n",
       "mean            5.843333          3.057333           3.758000   \n",
       "std             0.828066          0.435866           1.765298   \n",
       "min             4.300000          2.000000           1.000000   \n",
       "25%             5.100000          2.800000           1.600000   \n",
       "50%             5.800000          3.000000           4.350000   \n",
       "75%             6.400000          3.300000           5.100000   \n",
       "max             7.900000          4.400000           6.900000   \n",
       "\n",
       "       petal width (cm)     Species  \n",
       "count        150.000000  150.000000  \n",
       "mean           1.199333    1.000000  \n",
       "std            0.762238    0.819232  \n",
       "min            0.100000    0.000000  \n",
       "25%            0.300000    0.000000  \n",
       "50%            1.300000    1.000000  \n",
       "75%            1.800000    2.000000  \n",
       "max            2.500000    2.000000  "
      ]
     },
     "execution_count": 79,
     "metadata": {},
     "output_type": "execute_result"
    }
   ],
   "source": [
    "df.describe()"
   ]
  },
  {
   "cell_type": "code",
   "execution_count": 80,
   "metadata": {},
   "outputs": [
    {
     "data": {
      "text/plain": [
       "(150, 5)"
      ]
     },
     "execution_count": 80,
     "metadata": {},
     "output_type": "execute_result"
    }
   ],
   "source": [
    "df.shape"
   ]
  },
  {
   "cell_type": "code",
   "execution_count": 81,
   "metadata": {},
   "outputs": [
    {
     "data": {
      "text/plain": [
       "Species\n",
       "0    50\n",
       "1    50\n",
       "2    50\n",
       "Name: Species, dtype: int64"
      ]
     },
     "execution_count": 81,
     "metadata": {},
     "output_type": "execute_result"
    }
   ],
   "source": [
    "df.groupby(\"Species\").Species.count()"
   ]
  },
  {
   "cell_type": "markdown",
   "metadata": {
    "id": "y5S6-mpvKJD-"
   },
   "source": [
    "We will be taking 2 features, 'SepalLengthCm' and 'PetalWidthCm' for classification for easier visualization."
   ]
  },
  {
   "cell_type": "code",
   "execution_count": 82,
   "metadata": {
    "id": "vHbH9RWSRPJ6"
   },
   "outputs": [],
   "source": [
    "# Write the code to choose columns 'SepalLengthCm', 'PetalWidthCm' and 'Species' from the dataframe 'df',\n",
    "# Make a new dataframe 'df_new' and assign the three columns to the new dataframe."
   ]
  },
  {
   "cell_type": "code",
   "execution_count": 83,
   "metadata": {
    "id": "tXXGJrPwRRba"
   },
   "outputs": [],
   "source": [
    "#Write the code below\n",
    "df_new = df[['sepal length (cm)', 'petal width (cm)', 'Species']]"
   ]
  },
  {
   "cell_type": "code",
   "execution_count": 84,
   "metadata": {
    "id": "aIZ6OtoqZi-m"
   },
   "outputs": [
    {
     "data": {
      "text/html": [
       "<div>\n",
       "<style scoped>\n",
       "    .dataframe tbody tr th:only-of-type {\n",
       "        vertical-align: middle;\n",
       "    }\n",
       "\n",
       "    .dataframe tbody tr th {\n",
       "        vertical-align: top;\n",
       "    }\n",
       "\n",
       "    .dataframe thead th {\n",
       "        text-align: right;\n",
       "    }\n",
       "</style>\n",
       "<table border=\"1\" class=\"dataframe\">\n",
       "  <thead>\n",
       "    <tr style=\"text-align: right;\">\n",
       "      <th></th>\n",
       "      <th>sepal length (cm)</th>\n",
       "      <th>petal width (cm)</th>\n",
       "      <th>Species</th>\n",
       "    </tr>\n",
       "  </thead>\n",
       "  <tbody>\n",
       "    <tr>\n",
       "      <th>0</th>\n",
       "      <td>5.1</td>\n",
       "      <td>0.2</td>\n",
       "      <td>0</td>\n",
       "    </tr>\n",
       "    <tr>\n",
       "      <th>1</th>\n",
       "      <td>4.9</td>\n",
       "      <td>0.2</td>\n",
       "      <td>0</td>\n",
       "    </tr>\n",
       "    <tr>\n",
       "      <th>2</th>\n",
       "      <td>4.7</td>\n",
       "      <td>0.2</td>\n",
       "      <td>0</td>\n",
       "    </tr>\n",
       "    <tr>\n",
       "      <th>3</th>\n",
       "      <td>4.6</td>\n",
       "      <td>0.2</td>\n",
       "      <td>0</td>\n",
       "    </tr>\n",
       "    <tr>\n",
       "      <th>4</th>\n",
       "      <td>5.0</td>\n",
       "      <td>0.2</td>\n",
       "      <td>0</td>\n",
       "    </tr>\n",
       "  </tbody>\n",
       "</table>\n",
       "</div>"
      ],
      "text/plain": [
       "   sepal length (cm)  petal width (cm)  Species\n",
       "0                5.1               0.2        0\n",
       "1                4.9               0.2        0\n",
       "2                4.7               0.2        0\n",
       "3                4.6               0.2        0\n",
       "4                5.0               0.2        0"
      ]
     },
     "execution_count": 84,
     "metadata": {},
     "output_type": "execute_result"
    }
   ],
   "source": [
    "df_new.head()"
   ]
  },
  {
   "cell_type": "markdown",
   "metadata": {
    "id": "_z09_vfkKw7K"
   },
   "source": [
    "**3) Encoding**\n",
    "\n",
    "Now we will use Label Encoder to Encode the 'Species' column in numeric. For eg - the species Iris-setosa is encoded as 0, Iris-virginica as 2 and so on."
   ]
  },
  {
   "cell_type": "code",
   "execution_count": 85,
   "metadata": {
    "id": "WSa4ils9AuE_"
   },
   "outputs": [
    {
     "name": "stderr",
     "output_type": "stream",
     "text": [
      "D:\\MyApplications\\Anaconda\\lib\\site-packages\\ipykernel_launcher.py:5: SettingWithCopyWarning: \n",
      "A value is trying to be set on a copy of a slice from a DataFrame.\n",
      "Try using .loc[row_indexer,col_indexer] = value instead\n",
      "\n",
      "See the caveats in the documentation: https://pandas.pydata.org/pandas-docs/stable/user_guide/indexing.html#returning-a-view-versus-a-copy\n",
      "  \"\"\"\n"
     ]
    },
    {
     "data": {
      "text/html": [
       "<div>\n",
       "<style scoped>\n",
       "    .dataframe tbody tr th:only-of-type {\n",
       "        vertical-align: middle;\n",
       "    }\n",
       "\n",
       "    .dataframe tbody tr th {\n",
       "        vertical-align: top;\n",
       "    }\n",
       "\n",
       "    .dataframe thead th {\n",
       "        text-align: right;\n",
       "    }\n",
       "</style>\n",
       "<table border=\"1\" class=\"dataframe\">\n",
       "  <thead>\n",
       "    <tr style=\"text-align: right;\">\n",
       "      <th></th>\n",
       "      <th>sepal length (cm)</th>\n",
       "      <th>petal width (cm)</th>\n",
       "      <th>Species</th>\n",
       "      <th>Species_encoded</th>\n",
       "    </tr>\n",
       "  </thead>\n",
       "  <tbody>\n",
       "    <tr>\n",
       "      <th>0</th>\n",
       "      <td>5.1</td>\n",
       "      <td>0.2</td>\n",
       "      <td>0</td>\n",
       "      <td>0</td>\n",
       "    </tr>\n",
       "    <tr>\n",
       "      <th>1</th>\n",
       "      <td>4.9</td>\n",
       "      <td>0.2</td>\n",
       "      <td>0</td>\n",
       "      <td>0</td>\n",
       "    </tr>\n",
       "    <tr>\n",
       "      <th>2</th>\n",
       "      <td>4.7</td>\n",
       "      <td>0.2</td>\n",
       "      <td>0</td>\n",
       "      <td>0</td>\n",
       "    </tr>\n",
       "    <tr>\n",
       "      <th>3</th>\n",
       "      <td>4.6</td>\n",
       "      <td>0.2</td>\n",
       "      <td>0</td>\n",
       "      <td>0</td>\n",
       "    </tr>\n",
       "    <tr>\n",
       "      <th>4</th>\n",
       "      <td>5.0</td>\n",
       "      <td>0.2</td>\n",
       "      <td>0</td>\n",
       "      <td>0</td>\n",
       "    </tr>\n",
       "    <tr>\n",
       "      <th>...</th>\n",
       "      <td>...</td>\n",
       "      <td>...</td>\n",
       "      <td>...</td>\n",
       "      <td>...</td>\n",
       "    </tr>\n",
       "    <tr>\n",
       "      <th>145</th>\n",
       "      <td>6.7</td>\n",
       "      <td>2.3</td>\n",
       "      <td>2</td>\n",
       "      <td>2</td>\n",
       "    </tr>\n",
       "    <tr>\n",
       "      <th>146</th>\n",
       "      <td>6.3</td>\n",
       "      <td>1.9</td>\n",
       "      <td>2</td>\n",
       "      <td>2</td>\n",
       "    </tr>\n",
       "    <tr>\n",
       "      <th>147</th>\n",
       "      <td>6.5</td>\n",
       "      <td>2.0</td>\n",
       "      <td>2</td>\n",
       "      <td>2</td>\n",
       "    </tr>\n",
       "    <tr>\n",
       "      <th>148</th>\n",
       "      <td>6.2</td>\n",
       "      <td>2.3</td>\n",
       "      <td>2</td>\n",
       "      <td>2</td>\n",
       "    </tr>\n",
       "    <tr>\n",
       "      <th>149</th>\n",
       "      <td>5.9</td>\n",
       "      <td>1.8</td>\n",
       "      <td>2</td>\n",
       "      <td>2</td>\n",
       "    </tr>\n",
       "  </tbody>\n",
       "</table>\n",
       "<p>150 rows × 4 columns</p>\n",
       "</div>"
      ],
      "text/plain": [
       "     sepal length (cm)  petal width (cm)  Species  Species_encoded\n",
       "0                  5.1               0.2        0                0\n",
       "1                  4.9               0.2        0                0\n",
       "2                  4.7               0.2        0                0\n",
       "3                  4.6               0.2        0                0\n",
       "4                  5.0               0.2        0                0\n",
       "..                 ...               ...      ...              ...\n",
       "145                6.7               2.3        2                2\n",
       "146                6.3               1.9        2                2\n",
       "147                6.5               2.0        2                2\n",
       "148                6.2               2.3        2                2\n",
       "149                5.9               1.8        2                2\n",
       "\n",
       "[150 rows x 4 columns]"
      ]
     },
     "execution_count": 85,
     "metadata": {},
     "output_type": "execute_result"
    }
   ],
   "source": [
    "# Do not make changes in this cell\n",
    "# Simply execute it and move on\n",
    "from sklearn.preprocessing import LabelEncoder\n",
    "labelencoder_Species = LabelEncoder()\n",
    "df_new['Species_encoded'] = labelencoder_Species.fit_transform(df_new['Species'])\n",
    "df_new"
   ]
  },
  {
   "cell_type": "markdown",
   "metadata": {
    "id": "4VEK-uUqcp_d"
   },
   "source": [
    "We break this into X (features - 'SepalLengthCm' and 'PetalWidthCm') and y (output which is 'Species_encoded')."
   ]
  },
  {
   "cell_type": "code",
   "execution_count": 86,
   "metadata": {
    "id": "VAAz8OaHRclS"
   },
   "outputs": [],
   "source": [
    "# a)Write the code to choose columns 'SepalLengthCm' and 'PetalWidthCm' from the dataframe 'df_new',\n",
    "# and assign it to the new dataframe X.\n",
    "# b)Write the code to choose columns 'Species_encoded' from the dataframe 'df_new',\n",
    "# and assign it to the new dataframe y."
   ]
  },
  {
   "cell_type": "code",
   "execution_count": 87,
   "metadata": {
    "id": "T5bmRGCpczjQ"
   },
   "outputs": [
    {
     "data": {
      "text/plain": [
       "((150, 2), (150, 1))"
      ]
     },
     "execution_count": 87,
     "metadata": {},
     "output_type": "execute_result"
    }
   ],
   "source": [
    "#Write the code below\n",
    "X = df_new[['sepal length (cm)', 'petal width (cm)']]\n",
    "y = df_new[['Species_encoded']]\n",
    "X.shape, y.shape "
   ]
  },
  {
   "cell_type": "markdown",
   "metadata": {
    "id": "UD6bhJszb3iT"
   },
   "source": [
    "**4) Training and Test data**\n",
    "\n",
    "We will divide the dataset into training and test dataset to see the accuracy of each of the algorithms that we use :"
   ]
  },
  {
   "cell_type": "code",
   "execution_count": 88,
   "metadata": {
    "id": "DeSGoSC9cGRT"
   },
   "outputs": [],
   "source": [
    "from sklearn.model_selection import train_test_split"
   ]
  },
  {
   "cell_type": "code",
   "execution_count": 89,
   "metadata": {
    "id": "LMjKEmUeR52D"
   },
   "outputs": [],
   "source": [
    "# Split the dataset into 60% training and 40% test set\n",
    "# NOTE:- take random_state = 3\n",
    "# Take the variables as X_train, X_test, y_train and y_test"
   ]
  },
  {
   "cell_type": "code",
   "execution_count": 90,
   "metadata": {
    "id": "mwVZl5JaR-AW"
   },
   "outputs": [
    {
     "data": {
      "text/plain": [
       "((90, 2), (60, 2))"
      ]
     },
     "execution_count": 90,
     "metadata": {},
     "output_type": "execute_result"
    }
   ],
   "source": [
    "#Write the code below\n",
    "X_train, X_test, y_train, y_test = train_test_split(X, y, random_state=3, test_size = 0.4)\n",
    "X_train.shape, X_test.shape"
   ]
  },
  {
   "cell_type": "markdown",
   "metadata": {
    "id": "VyTaNLqLVFyG"
   },
   "source": [
    "We can check the different types of species in the dataset using the unique function :"
   ]
  },
  {
   "cell_type": "code",
   "execution_count": 91,
   "metadata": {
    "id": "hasTtJ29ThOc"
   },
   "outputs": [
    {
     "data": {
      "text/plain": [
       "array([0, 1, 2])"
      ]
     },
     "execution_count": 91,
     "metadata": {},
     "output_type": "execute_result"
    }
   ],
   "source": [
    "df_new['Species'].unique()"
   ]
  },
  {
   "cell_type": "markdown",
   "metadata": {
    "id": "PDfX6CHYLvnx"
   },
   "source": [
    "**5) Visualization of data**\n",
    "\n",
    "Now we will plot the two features on the x and y axis and plot the data with different colour according to the species. "
   ]
  },
  {
   "cell_type": "code",
   "execution_count": 92,
   "metadata": {
    "id": "I6NKSRxAb91F"
   },
   "outputs": [],
   "source": [
    "# Write the code to create datasets according to the different categories of the species from the training set of features\n",
    "# and assign it to the new dataframes setosa, versicolor and virginica.\n"
   ]
  },
  {
   "cell_type": "code",
   "execution_count": 93,
   "metadata": {
    "id": "r-by0adGLl04"
   },
   "outputs": [
    {
     "data": {
      "text/plain": [
       "((28, 3), (30, 3), (32, 3))"
      ]
     },
     "execution_count": 93,
     "metadata": {},
     "output_type": "execute_result"
    }
   ],
   "source": [
    "#Create datasets according to the category\n",
    "df_temp = pd.merge(X_train, y_train, left_index=True, right_index=True)\n",
    "#For the species setosa           \n",
    "setosa = df_temp[df_temp['Species_encoded'] == 0]\n",
    "#For the species versicolor          \n",
    "versicolor = df_temp[df_temp['Species_encoded'] == 1]\n",
    "#For the species virginica   \n",
    "virginica = df_temp[df_temp['Species_encoded'] == 2]\n",
    "\n",
    "setosa.shape, versicolor.shape, virginica.shape"
   ]
  },
  {
   "cell_type": "code",
   "execution_count": 94,
   "metadata": {
    "id": "NA6hvqRpuqFL"
   },
   "outputs": [
    {
     "data": {
      "text/plain": [
       "<matplotlib.legend.Legend at 0x1db86421ec8>"
      ]
     },
     "execution_count": 94,
     "metadata": {},
     "output_type": "execute_result"
    },
    {
     "data": {
      "image/png": "[encoded data removed]",
      "text/plain": [
       "<Figure size 432x288 with 1 Axes>"
      ]
     },
     "metadata": {
      "needs_background": "light"
     },
     "output_type": "display_data"
    }
   ],
   "source": [
    "#Plot the data categorywise using scatter plot and visualize the data. Also include labels and legend.\n",
    "#Write the code below\n",
    "plt.scatter(setosa['sepal length (cm)'], setosa['petal width (cm)'], color = 'r')\n",
    "plt.scatter(versicolor['sepal length (cm)'], versicolor['petal width (cm)'], color = 'b')\n",
    "plt.scatter(virginica['sepal length (cm)'], virginica['petal width (cm)'], color = 'g')\n",
    "plt.xlabel('sepal length (cm)')\n",
    "plt.xlabel('sepal length (cm)')\n",
    "plt.ylabel('petal width (cm)')\n",
    "plt.title('Scatter Plot')\n",
    "plt.legend(['setosa', 'versicolor', 'virginica'])"
   ]
  },
  {
   "cell_type": "markdown",
   "metadata": {
    "id": "jivimtxl04D5"
   },
   "source": [
    "Let us import the time library to compare the timing of the 3 methods :"
   ]
  },
  {
   "cell_type": "code",
   "execution_count": 95,
   "metadata": {
    "id": "2qSpXy1f09dl"
   },
   "outputs": [],
   "source": [
    "import time"
   ]
  },
  {
   "cell_type": "markdown",
   "metadata": {
    "id": "cITcO7SbZWcw"
   },
   "source": [
    "**6) Nearest Neighbour Classifier**\n",
    "\n"
   ]
  },
  {
   "cell_type": "code",
   "execution_count": 96,
   "metadata": {
    "id": "stPr8k--gcke"
   },
   "outputs": [],
   "source": [
    "# Question 1) Write the algorithm for nearest neighbour classifier as learnt in the theory\n",
    "#             Assign the answer to ans[0] after converting the output of the method to tuple "
   ]
  },
  {
   "cell_type": "code",
   "execution_count": 97,
   "metadata": {
    "id": "Hztil8AURSgo"
   },
   "outputs": [],
   "source": [
    "# Algorithm - Calculate the Euclidian distance for each test dataset by comparing with every trainig dataset and assign it to the variable 'val'\n",
    "#            The prediciton is the minimum value obtained from all the Euclidian distance calculated for that test datapoint\n",
    "# Assign the y_predict to ans[0] as a tuple => (0,1,0,2, and so on) "
   ]
  },
  {
   "cell_type": "code",
   "execution_count": 98,
   "metadata": {
    "id": "KGVnniI3uJpH"
   },
   "outputs": [
    {
     "data": {
      "text/plain": [
       "'(0, 0, 0, 0, 0, 2, 1, 0, 2, 1, 1, 0, 1, 1, 2, 0, 2, 2, 2, 0, 2, 2, 2, 1, 0, 2, 1, 1, 1, 1, 0, 0, 2, 1, 0, 0, 2, 0, 2, 2, 2, 1, 0, 0, 2, 1, 0, 1, 1, 1, 0, 0, 1, 1, 1, 0, 2, 0, 2, 1)'"
      ]
     },
     "execution_count": 98,
     "metadata": {},
     "output_type": "execute_result"
    }
   ],
   "source": [
    "ans = [None] * 10\n",
    "start_time = time.time()                          # Starting the runtime for this cell\n",
    "y_predict = []                                    # Predicted values of y will be stored\n",
    "#Write the code below\n",
    "for i in list(X_test.index):\n",
    "    best_dis = pow(10, 9)\n",
    "    best_pred = -1\n",
    "    for j in list(X_train.index):\n",
    "        dis = (X_test.loc[i, 'sepal length (cm)'] - X_train.loc[j, 'sepal length (cm)'])**2 + (X_test.loc[i, 'petal width (cm)'] - X_train.loc[j, 'petal width (cm)'])**2\n",
    "        if best_dis > dis:\n",
    "            best_dis = dis\n",
    "            best_pred = y.loc[j, 'Species_encoded']\n",
    "    y_predict.append(best_pred)\n",
    "\n",
    "    \n",
    "\n",
    "# 1 mark\n",
    "ans[0] = tuple(y_predict)\n",
    "ans[0] = str(ans[0])\n",
    "time_NN = time.time() - start_time                # Final time taken\n",
    "ans[0]"
   ]
  },
  {
   "cell_type": "markdown",
   "metadata": {
    "id": "czv-iPfLOaoj"
   },
   "source": [
    "We will concatenate the columns of predicted and y_test dataframe to X_test"
   ]
  },
  {
   "cell_type": "code",
   "execution_count": 99,
   "metadata": {
    "id": "-gypIBLfiy59"
   },
   "outputs": [],
   "source": [
    "# a)Concatenate X_test and y_test dataframe by column and assign it to the new dataframe 'Test_Data'\n",
    "# b)Concatenate Test_data and Predicted dataframe by column assign it to the new dataframe 'Check_Prediction' "
   ]
  },
  {
   "cell_type": "code",
   "execution_count": 100,
   "metadata": {
    "id": "WP_BNoymLC5I"
   },
   "outputs": [
    {
     "data": {
      "text/html": [
       "<div>\n",
       "<style scoped>\n",
       "    .dataframe tbody tr th:only-of-type {\n",
       "        vertical-align: middle;\n",
       "    }\n",
       "\n",
       "    .dataframe tbody tr th {\n",
       "        vertical-align: top;\n",
       "    }\n",
       "\n",
       "    .dataframe thead th {\n",
       "        text-align: right;\n",
       "    }\n",
       "</style>\n",
       "<table border=\"1\" class=\"dataframe\">\n",
       "  <thead>\n",
       "    <tr style=\"text-align: right;\">\n",
       "      <th></th>\n",
       "      <th>sepal length (cm)</th>\n",
       "      <th>petal width (cm)</th>\n",
       "      <th>Species_encoded</th>\n",
       "      <th>y_prediction</th>\n",
       "    </tr>\n",
       "  </thead>\n",
       "  <tbody>\n",
       "    <tr>\n",
       "      <th>47</th>\n",
       "      <td>4.6</td>\n",
       "      <td>0.2</td>\n",
       "      <td>0</td>\n",
       "      <td>0</td>\n",
       "    </tr>\n",
       "    <tr>\n",
       "      <th>3</th>\n",
       "      <td>4.6</td>\n",
       "      <td>0.2</td>\n",
       "      <td>0</td>\n",
       "      <td>0</td>\n",
       "    </tr>\n",
       "    <tr>\n",
       "      <th>31</th>\n",
       "      <td>5.4</td>\n",
       "      <td>0.4</td>\n",
       "      <td>0</td>\n",
       "      <td>0</td>\n",
       "    </tr>\n",
       "    <tr>\n",
       "      <th>25</th>\n",
       "      <td>5.0</td>\n",
       "      <td>0.2</td>\n",
       "      <td>0</td>\n",
       "      <td>0</td>\n",
       "    </tr>\n",
       "    <tr>\n",
       "      <th>15</th>\n",
       "      <td>5.7</td>\n",
       "      <td>0.4</td>\n",
       "      <td>0</td>\n",
       "      <td>0</td>\n",
       "    </tr>\n",
       "  </tbody>\n",
       "</table>\n",
       "</div>"
      ],
      "text/plain": [
       "    sepal length (cm)  petal width (cm)  Species_encoded  y_prediction\n",
       "47                4.6               0.2                0             0\n",
       "3                 4.6               0.2                0             0\n",
       "31                5.4               0.4                0             0\n",
       "25                5.0               0.2                0             0\n",
       "15                5.7               0.4                0             0"
      ]
     },
     "execution_count": 100,
     "metadata": {},
     "output_type": "execute_result"
    }
   ],
   "source": [
    "#Write the code below\n",
    "Test_Data = pd.merge(X_test, y_test, left_index = True, right_index = True)\n",
    "df_pred = pd.DataFrame(y_predict, X_test.index)\n",
    "Check_Prediction = pd.merge(Test_Data, df_pred, left_index = True, right_index = True)\n",
    "Check_Prediction.rename(columns = {0: 'y_prediction'}, inplace = True)\n",
    "Check_Prediction.head()"
   ]
  },
  {
   "cell_type": "markdown",
   "metadata": {
    "id": "ktMbUpPE4t2E"
   },
   "source": [
    "We will calculate the accuracy now :"
   ]
  },
  {
   "cell_type": "code",
   "execution_count": 101,
   "metadata": {
    "id": "7ByP9eMzpT7u"
   },
   "outputs": [],
   "source": [
    "# Question 2) Calculate the accuracy obtained for the algorithm used above\n",
    "#             Assign the accuracy to ans[1] and store it as 'Accuracy_NearestNeighbours'  "
   ]
  },
  {
   "cell_type": "code",
   "execution_count": 102,
   "metadata": {
    "id": "gr6T3x-TfEvg"
   },
   "outputs": [
    {
     "name": "stdout",
     "output_type": "stream",
     "text": [
      "Accuracy is: 90.0\n"
     ]
    }
   ],
   "source": [
    "#NOTE - Accuracy = Correct_Predictions/Total_Predictions\n",
    "#Write the code below\n",
    "Correct_Predictions = 0\n",
    "Total_Predictions = X_test.shape[0]\n",
    "for i in list(Check_Prediction.index):\n",
    "    if Check_Prediction.loc[i, 'Species_encoded'] == Check_Prediction.loc[i, 'y_prediction']:\n",
    "        Correct_Predictions += 1\n",
    "\n",
    "# 1 mark\n",
    "Accuracy_NearestNeighbours = ans[1] = Correct_Predictions/Total_Predictions\n",
    "print(\"Accuracy is:\", ans[1]*100)"
   ]
  },
  {
   "cell_type": "markdown",
   "metadata": {
    "id": "N4t20uChOkLU"
   },
   "source": [
    "Now let us have a look at the values that we did not predicted correctly :"
   ]
  },
  {
   "cell_type": "code",
   "execution_count": 103,
   "metadata": {
    "id": "vWNgSD6EBq1-"
   },
   "outputs": [
    {
     "data": {
      "image/png": "[encoded data removed]",
      "text/plain": [
       "<Figure size 432x288 with 1 Axes>"
      ]
     },
     "metadata": {
      "needs_background": "light"
     },
     "output_type": "display_data"
    }
   ],
   "source": [
    "#Plot the data categorywise using scatter plot and visualize the data. Also include labels and legend.\n",
    "#Write the code below\n",
    "setosa = Test_Data[Test_Data['Species_encoded'] == 0]          \n",
    "versicolor = Test_Data[Test_Data['Species_encoded'] == 1]\n",
    "virginica = Test_Data[Test_Data['Species_encoded'] == 2]\n",
    "\n",
    "plt.scatter(setosa['sepal length (cm)'], setosa['petal width (cm)'], color = 'r')\n",
    "plt.scatter(versicolor['sepal length (cm)'], versicolor['petal width (cm)'], color = 'b')\n",
    "plt.scatter(virginica['sepal length (cm)'], virginica['petal width (cm)'], color = 'g')\n",
    "plt.xlabel('sepal length (cm)')\n",
    "plt.xlabel('sepal length (cm)')\n",
    "plt.ylabel('petal width (cm)')\n",
    "plt.title('Scatter Plot')\n",
    "plt.legend(['setosa', 'versicolor', 'virginica'])\n",
    "\n",
    "#Implement the below code snippet to see the values that were not predicted correctly\n",
    "for index in list(Check_Prediction.index):\n",
    "    if(Check_Prediction['Species_encoded'][index]==Check_Prediction['y_prediction'][index]):\n",
    "        plt.scatter(Check_Prediction['sepal length (cm)'][index],Check_Prediction['petal width (cm)'][index],marker='x',c='m')\n",
    "    else:\n",
    "        plt.scatter(Check_Prediction['sepal length (cm)'][index],Check_Prediction['petal width (cm)'][index],marker='*',c='y')"
   ]
  },
  {
   "cell_type": "markdown",
   "metadata": {
    "id": "2YQu3nh8ZK5B"
   },
   "source": [
    "The magenta cross represents correct predictions and the yellow stars represent incorrect predictions.\n",
    "\n",
    "We see that even if there is an outlier, if the test value is close to that value, it will be predicted in that class, which may not always be right. Hence we move on to the k Nearest Neighbor."
   ]
  },
  {
   "cell_type": "markdown",
   "metadata": {
    "id": "d42m7X1Rnl8-"
   },
   "source": [
    "**7)  K Nearest Neighbour**\n",
    "\n",
    "Choosing the value of k for the algorithm could be a difficult task. A small value of k means that noise will have a higher influence on the result and a large value make it computationally expensive.\n",
    "\n",
    "We will have to check which value suits well. Let us start with k = 5.\n",
    "\n",
    "Now we will move on to K Nearest Neighbour classifier:"
   ]
  },
  {
   "cell_type": "code",
   "execution_count": 104,
   "metadata": {
    "id": "k-7A0pPS0-Cd"
   },
   "outputs": [],
   "source": [
    "# Question 3) Algorithm - Calculate the Euclidian distance for each test dataset by comparing with every training dataset and assign it to the variable 'val'\n",
    "#            Sort the distances obtained and take the k smallest values.\n",
    "#            Take their species values.\n",
    "#            The prediciton is the maximum frequency among all the k sorted values.  \n",
    "#           # Assign the y_predict to ans[2] as a tuple => (0,1,0,2, and so on)  "
   ]
  },
  {
   "cell_type": "code",
   "execution_count": 105,
   "metadata": {
    "id": "ffRlp-XvlwdV"
   },
   "outputs": [
    {
     "data": {
      "text/plain": [
       "'(0, 0, 0, 0, 0, 2, 1, 0, 2, 1, 1, 0, 1, 1, 2, 0, 1, 2, 2, 0, 2, 2, 2, 1, 0, 2, 1, 1, 1, 1, 0, 0, 2, 1, 0, 0, 1, 0, 2, 1, 2, 1, 0, 0, 2, 1, 0, 1, 2, 1, 0, 0, 2, 2, 1, 0, 2, 0, 2, 1)'"
      ]
     },
     "execution_count": 105,
     "metadata": {},
     "output_type": "execute_result"
    }
   ],
   "source": [
    "start_time = time.time()\n",
    "k = 5\n",
    "y_predict = []\n",
    "#Write the code below\n",
    "for i in list(X_test.index):\n",
    "    dis = []\n",
    "    for j in list(X_train.index):\n",
    "        new_dis = (X_test.loc[i, 'sepal length (cm)'] - X_train.loc[j, 'sepal length (cm)'])**2 + (X_test.loc[i, 'petal width (cm)'] - X_train.loc[j, 'petal width (cm)'])**2\n",
    "        dis.append([new_dis, y.loc[j, 'Species_encoded']])\n",
    "    dis.sort()\n",
    "    dis = dis[:k]\n",
    "    count_0 = 0\n",
    "    count_1 = 0\n",
    "    count_2 = 0\n",
    "    for item in dis:\n",
    "        if item[1] == 0:\n",
    "            count_0 += 1\n",
    "        elif item[1] == 1:\n",
    "            count_1 += 1\n",
    "        else:\n",
    "            count_2 += 1\n",
    "    \n",
    "    temp_arr = [[count_0, 0], [count_1, 1], [count_2, 2]]\n",
    "    temp_arr.sort()\n",
    "    y_predict.append(temp_arr[-1][1])\n",
    "\n",
    "\n",
    "# 1 mark\n",
    "ans[2] = tuple(y_predict)\n",
    "ans[2] = str(ans[2])\n",
    "time_k5_NN = time.time() - start_time\n",
    "ans[2]"
   ]
  },
  {
   "cell_type": "code",
   "execution_count": 106,
   "metadata": {
    "id": "pvD8-_XgXUjc"
   },
   "outputs": [],
   "source": [
    "# a):Concatenate X_test and y_test dataframe by column and assign it to the new dataframe 'Test_Data'\n",
    "# b):Concatenate Test_data and Predicted dataframe by column assign it to the new dataframe 'Check_Prediction' "
   ]
  },
  {
   "cell_type": "code",
   "execution_count": 107,
   "metadata": {
    "id": "ox8v__QacRE9"
   },
   "outputs": [
    {
     "data": {
      "text/html": [
       "<div>\n",
       "<style scoped>\n",
       "    .dataframe tbody tr th:only-of-type {\n",
       "        vertical-align: middle;\n",
       "    }\n",
       "\n",
       "    .dataframe tbody tr th {\n",
       "        vertical-align: top;\n",
       "    }\n",
       "\n",
       "    .dataframe thead th {\n",
       "        text-align: right;\n",
       "    }\n",
       "</style>\n",
       "<table border=\"1\" class=\"dataframe\">\n",
       "  <thead>\n",
       "    <tr style=\"text-align: right;\">\n",
       "      <th></th>\n",
       "      <th>sepal length (cm)</th>\n",
       "      <th>petal width (cm)</th>\n",
       "      <th>Species_encoded</th>\n",
       "      <th>y_prediction</th>\n",
       "    </tr>\n",
       "  </thead>\n",
       "  <tbody>\n",
       "    <tr>\n",
       "      <th>47</th>\n",
       "      <td>4.6</td>\n",
       "      <td>0.2</td>\n",
       "      <td>0</td>\n",
       "      <td>0</td>\n",
       "    </tr>\n",
       "    <tr>\n",
       "      <th>3</th>\n",
       "      <td>4.6</td>\n",
       "      <td>0.2</td>\n",
       "      <td>0</td>\n",
       "      <td>0</td>\n",
       "    </tr>\n",
       "    <tr>\n",
       "      <th>31</th>\n",
       "      <td>5.4</td>\n",
       "      <td>0.4</td>\n",
       "      <td>0</td>\n",
       "      <td>0</td>\n",
       "    </tr>\n",
       "    <tr>\n",
       "      <th>25</th>\n",
       "      <td>5.0</td>\n",
       "      <td>0.2</td>\n",
       "      <td>0</td>\n",
       "      <td>0</td>\n",
       "    </tr>\n",
       "    <tr>\n",
       "      <th>15</th>\n",
       "      <td>5.7</td>\n",
       "      <td>0.4</td>\n",
       "      <td>0</td>\n",
       "      <td>0</td>\n",
       "    </tr>\n",
       "  </tbody>\n",
       "</table>\n",
       "</div>"
      ],
      "text/plain": [
       "    sepal length (cm)  petal width (cm)  Species_encoded  y_prediction\n",
       "47                4.6               0.2                0             0\n",
       "3                 4.6               0.2                0             0\n",
       "31                5.4               0.4                0             0\n",
       "25                5.0               0.2                0             0\n",
       "15                5.7               0.4                0             0"
      ]
     },
     "execution_count": 107,
     "metadata": {},
     "output_type": "execute_result"
    }
   ],
   "source": [
    "# Write the code below\n",
    "Test_Data = pd.merge(X_test, y_test, left_index = True, right_index = True)\n",
    "df_pred = pd.DataFrame(y_predict, X_test.index)\n",
    "Check_Prediction = pd.merge(Test_Data, df_pred, left_index = True, right_index = True)\n",
    "Check_Prediction.rename(columns = {0: 'y_prediction'}, inplace = True)\n",
    "Check_Prediction.head()"
   ]
  },
  {
   "cell_type": "markdown",
   "metadata": {
    "id": "2RBcFcwKXUjg"
   },
   "source": [
    "We will calculate the accuracy now :"
   ]
  },
  {
   "cell_type": "code",
   "execution_count": 108,
   "metadata": {
    "id": "jWs8A7Ql1NcM"
   },
   "outputs": [],
   "source": [
    "# Question 4) :Calculate the accuracy obtained for the algorithm used above\n",
    "#             Assign the accuracy to ans[3] and store it as 'Accuracy_k5_NearestNeighbours' "
   ]
  },
  {
   "cell_type": "code",
   "execution_count": 109,
   "metadata": {
    "id": "r7fklHz_1NcM"
   },
   "outputs": [
    {
     "name": "stdout",
     "output_type": "stream",
     "text": [
      "Accuracy is: 96.66666666666667\n"
     ]
    }
   ],
   "source": [
    "#NOTE - Accuracy = Correct_Predictions/Total_Predictions\n",
    "#Write the code below\n",
    "Correct_Predictions = 0\n",
    "Total_Predictions = X_test.shape[0]\n",
    "for i in list(Check_Prediction.index):\n",
    "    if Check_Prediction.loc[i, 'Species_encoded'] == Check_Prediction.loc[i, 'y_prediction']:\n",
    "        Correct_Predictions += 1\n",
    "\n",
    "# 1 mark\n",
    "Accuracy_k5_NearestNeighbours = ans[3] = Correct_Predictions/Total_Predictions\n",
    "print(\"Accuracy is:\", ans[3]*100)"
   ]
  },
  {
   "cell_type": "markdown",
   "metadata": {
    "id": "wBaLTpXuXUjj"
   },
   "source": [
    "Now let us have a look at the values that we did not predicted correctly :"
   ]
  },
  {
   "cell_type": "code",
   "execution_count": 110,
   "metadata": {
    "id": "IRZR78zY1dQU"
   },
   "outputs": [
    {
     "data": {
      "image/png": "[encoded data removed]",
      "text/plain": [
       "<Figure size 432x288 with 1 Axes>"
      ]
     },
     "metadata": {
      "needs_background": "light"
     },
     "output_type": "display_data"
    }
   ],
   "source": [
    "#Plot the data categorywise using scatter plot and visualize the data. Also include labels and legend.\n",
    "# Write the code below\n",
    "\n",
    "setosa = Test_Data[Test_Data['Species_encoded'] == 0]          \n",
    "versicolor = Test_Data[Test_Data['Species_encoded'] == 1]\n",
    "virginica = Test_Data[Test_Data['Species_encoded'] == 2]\n",
    "\n",
    "plt.scatter(setosa['sepal length (cm)'], setosa['petal width (cm)'], color = 'r')\n",
    "plt.scatter(versicolor['sepal length (cm)'], versicolor['petal width (cm)'], color = 'b')\n",
    "plt.scatter(virginica['sepal length (cm)'], virginica['petal width (cm)'], color = 'g')\n",
    "plt.xlabel('sepal length (cm)')\n",
    "plt.xlabel('sepal length (cm)')\n",
    "plt.ylabel('petal width (cm)')\n",
    "plt.title('Scatter Plot')\n",
    "plt.legend(['setosa', 'versicolor', 'virginica'])\n",
    "\n",
    "\n",
    "\n",
    "\n",
    "#Implement the below code snippet to see the values that were not predicted correctly\n",
    "for index in list(Check_Prediction.index):\n",
    "    if(Check_Prediction['Species_encoded'][index]==Check_Prediction['y_prediction'][index]):\n",
    "        plt.scatter(Check_Prediction['sepal length (cm)'][index],Check_Prediction['petal width (cm)'][index],marker='x',c='m')\n",
    "    else:\n",
    "        plt.scatter(Check_Prediction['sepal length (cm)'][index],Check_Prediction['petal width (cm)'][index],marker='*',c='y')"
   ]
  },
  {
   "cell_type": "markdown",
   "metadata": {
    "id": "zc3PoFufzQwD"
   },
   "source": [
    "From this plot, it is visible that some of the outlier cases wrongly predicted in previous method are being taken care of by kNN. Still there could always be some errors near boundary lines."
   ]
  },
  {
   "cell_type": "markdown",
   "metadata": {
    "id": "lDfbhdnZZ502"
   },
   "source": [
    "Choosing an optimum value of k is very important. Let us see the problems when k is too large or too less.\n",
    "\n",
    "First when k is too small :\n",
    "\n",
    "Let us check for k = 1."
   ]
  },
  {
   "cell_type": "markdown",
   "metadata": {
    "id": "hW5OhE3KMvc7"
   },
   "source": [
    "We are adding some outliers in the data to see what the KNN for k=1 predicts."
   ]
  },
  {
   "cell_type": "code",
   "execution_count": 111,
   "metadata": {
    "id": "VwoYvjYvMxTv"
   },
   "outputs": [
    {
     "name": "stderr",
     "output_type": "stream",
     "text": [
      "D:\\MyApplications\\Anaconda\\lib\\site-packages\\pandas\\core\\indexing.py:670: SettingWithCopyWarning: \n",
      "A value is trying to be set on a copy of a slice from a DataFrame\n",
      "\n",
      "See the caveats in the documentation: https://pandas.pydata.org/pandas-docs/stable/user_guide/indexing.html#returning-a-view-versus-a-copy\n",
      "  self._setitem_with_indexer(indexer, value)\n"
     ]
    }
   ],
   "source": [
    "#adding outliers in the data\n",
    "X_test.loc[len(X_test.index)] = [4.5, 1.5]  \n",
    "X_test.loc[len(X_test.index)] = [4.8, 1.5]  \n",
    "X_test.loc[len(X_test.index)] = [7, 1.5]  \n",
    "X_test.loc[len(X_test.index)] = [5, 0.85]  \n",
    "y_test.loc[len(y_test.index)] = [1] \n",
    "y_test.loc[len(y_test.index)] = [1]\n",
    "y_test.loc[len(y_test.index)] = [2]\n",
    "y_test.loc[len(y_test.index)] = [0] "
   ]
  },
  {
   "cell_type": "code",
   "execution_count": 112,
   "metadata": {
    "id": "5zjeeRagcVzd"
   },
   "outputs": [],
   "source": [
    "# Now implement KNN algorithm with k = 1"
   ]
  },
  {
   "cell_type": "code",
   "execution_count": 113,
   "metadata": {
    "id": "8Wq7Ib-ZcVl9"
   },
   "outputs": [],
   "source": [
    "start_time = time.time()\n",
    "k = 1\n",
    "y_predict = []\n",
    "#Write the code below\n",
    "for i in list(X_test.index):\n",
    "    dis = []\n",
    "    for j in list(X_train.index):\n",
    "        new_dis = (X_test.loc[i, 'sepal length (cm)'] - X_train.loc[j, 'sepal length (cm)'])**2 + (X_test.loc[i, 'petal width (cm)'] - X_train.loc[j, 'petal width (cm)'])**2\n",
    "        dis.append([new_dis, y.loc[j, 'Species_encoded']])\n",
    "    dis.sort()\n",
    "    dis = dis[:k]\n",
    "    count_0 = 0\n",
    "    count_1 = 0\n",
    "    count_2 = 0\n",
    "    for item in dis:\n",
    "        if item[1] == 0:\n",
    "            count_0 += 1\n",
    "        elif item[1] == 1:\n",
    "            count_1 += 1\n",
    "        else:\n",
    "            count_2 += 1\n",
    "    \n",
    "    temp_arr = [[count_0, 0], [count_1, 1], [count_2, 2]]\n",
    "    temp_arr.sort()\n",
    "    y_predict.append(temp_arr[-1][1])\n",
    "\n",
    "time_k1_NN = time.time() - start_time"
   ]
  },
  {
   "cell_type": "code",
   "execution_count": 114,
   "metadata": {
    "id": "_BDRidu-cVWF"
   },
   "outputs": [],
   "source": [
    "# a):Concatenate X_test and y_test dataframe by column and assign it to the new dataframe 'Test_Data'\n",
    "# b):Concatenate Test_data and Predicted dataframe by column assign it to the new dataframe 'Check_Prediction' "
   ]
  },
  {
   "cell_type": "code",
   "execution_count": 115,
   "metadata": {
    "id": "sXXswMHLcfK2"
   },
   "outputs": [
    {
     "data": {
      "text/html": [
       "<div>\n",
       "<style scoped>\n",
       "    .dataframe tbody tr th:only-of-type {\n",
       "        vertical-align: middle;\n",
       "    }\n",
       "\n",
       "    .dataframe tbody tr th {\n",
       "        vertical-align: top;\n",
       "    }\n",
       "\n",
       "    .dataframe thead th {\n",
       "        text-align: right;\n",
       "    }\n",
       "</style>\n",
       "<table border=\"1\" class=\"dataframe\">\n",
       "  <thead>\n",
       "    <tr style=\"text-align: right;\">\n",
       "      <th></th>\n",
       "      <th>sepal length (cm)</th>\n",
       "      <th>petal width (cm)</th>\n",
       "      <th>Species_encoded</th>\n",
       "      <th>y_prediction</th>\n",
       "    </tr>\n",
       "  </thead>\n",
       "  <tbody>\n",
       "    <tr>\n",
       "      <th>47</th>\n",
       "      <td>4.6</td>\n",
       "      <td>0.2</td>\n",
       "      <td>0</td>\n",
       "      <td>0</td>\n",
       "    </tr>\n",
       "    <tr>\n",
       "      <th>3</th>\n",
       "      <td>4.6</td>\n",
       "      <td>0.2</td>\n",
       "      <td>0</td>\n",
       "      <td>0</td>\n",
       "    </tr>\n",
       "    <tr>\n",
       "      <th>31</th>\n",
       "      <td>5.4</td>\n",
       "      <td>0.4</td>\n",
       "      <td>0</td>\n",
       "      <td>0</td>\n",
       "    </tr>\n",
       "    <tr>\n",
       "      <th>25</th>\n",
       "      <td>5.0</td>\n",
       "      <td>0.2</td>\n",
       "      <td>0</td>\n",
       "      <td>0</td>\n",
       "    </tr>\n",
       "    <tr>\n",
       "      <th>15</th>\n",
       "      <td>5.7</td>\n",
       "      <td>0.4</td>\n",
       "      <td>0</td>\n",
       "      <td>0</td>\n",
       "    </tr>\n",
       "  </tbody>\n",
       "</table>\n",
       "</div>"
      ],
      "text/plain": [
       "    sepal length (cm)  petal width (cm)  Species_encoded  y_prediction\n",
       "47                4.6               0.2                0             0\n",
       "3                 4.6               0.2                0             0\n",
       "31                5.4               0.4                0             0\n",
       "25                5.0               0.2                0             0\n",
       "15                5.7               0.4                0             0"
      ]
     },
     "execution_count": 115,
     "metadata": {},
     "output_type": "execute_result"
    }
   ],
   "source": [
    "# Write the code below\n",
    "Test_Data = pd.merge(X_test, y_test, left_index = True, right_index = True)\n",
    "df_pred = pd.DataFrame(y_predict, X_test.index)\n",
    "Check_Prediction = pd.merge(Test_Data, df_pred, left_index = True, right_index = True)\n",
    "Check_Prediction.rename(columns = {0: 'y_prediction'}, inplace = True)\n",
    "Check_Prediction.head()"
   ]
  },
  {
   "cell_type": "markdown",
   "metadata": {
    "id": "tK_MsXnvckcs"
   },
   "source": [
    "We will calculate the accuracy now :"
   ]
  },
  {
   "cell_type": "code",
   "execution_count": 116,
   "metadata": {
    "id": "B-dsgrFscl_u"
   },
   "outputs": [],
   "source": [
    "# Question 5) :Calculate the accuracy obtained for the algorithm used above\n",
    "#             Assign the accuracy to ans[4] and store it as 'Accuracy_k1_NearestNeighbours'"
   ]
  },
  {
   "cell_type": "code",
   "execution_count": 117,
   "metadata": {
    "id": "_K6iUEzUcoIu"
   },
   "outputs": [
    {
     "name": "stdout",
     "output_type": "stream",
     "text": [
      "Accuracy is: 84.375\n"
     ]
    }
   ],
   "source": [
    "Correct_Predictions = 0\n",
    "Total_Predictions = X_test.shape[0]\n",
    "for i in list(Check_Prediction.index):\n",
    "    if Check_Prediction.loc[i, 'Species_encoded'] == Check_Prediction.loc[i, 'y_prediction']:\n",
    "        Correct_Predictions += 1\n",
    "\n",
    "# 1 mark\n",
    "Accuracy_k1_NearestNeighbours = ans[4] = Correct_Predictions/Total_Predictions\n",
    "print(\"Accuracy is:\", ans[4]*100)"
   ]
  },
  {
   "cell_type": "markdown",
   "metadata": {
    "id": "s7qE06gMMooU"
   },
   "source": [
    "As we can clearly see that KNN for k=1 doesn't do well in case of outliers. Hence, we increase the value of k to get better results."
   ]
  },
  {
   "cell_type": "markdown",
   "metadata": {
    "id": "kXWMlk5gcsy2"
   },
   "source": [
    "Let us check for k = 2."
   ]
  },
  {
   "cell_type": "code",
   "execution_count": 118,
   "metadata": {
    "id": "fpgM3Lca1ui1"
   },
   "outputs": [],
   "source": [
    "# Now implement KNN algorithm with k = 2"
   ]
  },
  {
   "cell_type": "code",
   "execution_count": 119,
   "metadata": {
    "id": "CA-Il-VBaF5z"
   },
   "outputs": [],
   "source": [
    "start_time = time.time()\n",
    "k = 2\n",
    "y_predict = []\n",
    "#Write the code below\n",
    "for i in list(X_test.index):\n",
    "    dis = []\n",
    "    for j in list(X_train.index):\n",
    "        new_dis = (X_test.loc[i, 'sepal length (cm)'] - X_train.loc[j, 'sepal length (cm)'])**2 + (X_test.loc[i, 'petal width (cm)'] - X_train.loc[j, 'petal width (cm)'])**2\n",
    "        dis.append([new_dis, y.loc[j, 'Species_encoded']])\n",
    "    dis.sort()\n",
    "    dis = dis[:k]\n",
    "    count_0 = 0\n",
    "    count_1 = 0\n",
    "    count_2 = 0\n",
    "    for item in dis:\n",
    "        if item[1] == 0:\n",
    "            count_0 += 1\n",
    "        elif item[1] == 1:\n",
    "            count_1 += 1\n",
    "        else:\n",
    "            count_2 += 1\n",
    "    \n",
    "    temp_arr = [[count_0, 0], [count_1, 1], [count_2, 2]]\n",
    "    temp_arr.sort()\n",
    "    y_predict.append(temp_arr[-1][1])\n",
    "\n",
    "time_k2_NN = time.time() - start_time"
   ]
  },
  {
   "cell_type": "code",
   "execution_count": 120,
   "metadata": {
    "id": "iGRYyAJDaF52"
   },
   "outputs": [],
   "source": [
    "# a):Concatenate X_test and y_test dataframe by column and assign it to the new dataframe 'Test_Data'\n",
    "# b):Concatenate Test_data and Predicted dataframe by column assign it to the new dataframe 'Check_Prediction' "
   ]
  },
  {
   "cell_type": "code",
   "execution_count": 121,
   "metadata": {
    "id": "gcnnpnjncJ3m"
   },
   "outputs": [
    {
     "data": {
      "text/html": [
       "<div>\n",
       "<style scoped>\n",
       "    .dataframe tbody tr th:only-of-type {\n",
       "        vertical-align: middle;\n",
       "    }\n",
       "\n",
       "    .dataframe tbody tr th {\n",
       "        vertical-align: top;\n",
       "    }\n",
       "\n",
       "    .dataframe thead th {\n",
       "        text-align: right;\n",
       "    }\n",
       "</style>\n",
       "<table border=\"1\" class=\"dataframe\">\n",
       "  <thead>\n",
       "    <tr style=\"text-align: right;\">\n",
       "      <th></th>\n",
       "      <th>sepal length (cm)</th>\n",
       "      <th>petal width (cm)</th>\n",
       "      <th>Species_encoded</th>\n",
       "      <th>y_prediction</th>\n",
       "    </tr>\n",
       "  </thead>\n",
       "  <tbody>\n",
       "    <tr>\n",
       "      <th>47</th>\n",
       "      <td>4.6</td>\n",
       "      <td>0.2</td>\n",
       "      <td>0</td>\n",
       "      <td>0</td>\n",
       "    </tr>\n",
       "    <tr>\n",
       "      <th>3</th>\n",
       "      <td>4.6</td>\n",
       "      <td>0.2</td>\n",
       "      <td>0</td>\n",
       "      <td>0</td>\n",
       "    </tr>\n",
       "    <tr>\n",
       "      <th>31</th>\n",
       "      <td>5.4</td>\n",
       "      <td>0.4</td>\n",
       "      <td>0</td>\n",
       "      <td>0</td>\n",
       "    </tr>\n",
       "    <tr>\n",
       "      <th>25</th>\n",
       "      <td>5.0</td>\n",
       "      <td>0.2</td>\n",
       "      <td>0</td>\n",
       "      <td>0</td>\n",
       "    </tr>\n",
       "    <tr>\n",
       "      <th>15</th>\n",
       "      <td>5.7</td>\n",
       "      <td>0.4</td>\n",
       "      <td>0</td>\n",
       "      <td>0</td>\n",
       "    </tr>\n",
       "  </tbody>\n",
       "</table>\n",
       "</div>"
      ],
      "text/plain": [
       "    sepal length (cm)  petal width (cm)  Species_encoded  y_prediction\n",
       "47                4.6               0.2                0             0\n",
       "3                 4.6               0.2                0             0\n",
       "31                5.4               0.4                0             0\n",
       "25                5.0               0.2                0             0\n",
       "15                5.7               0.4                0             0"
      ]
     },
     "execution_count": 121,
     "metadata": {},
     "output_type": "execute_result"
    }
   ],
   "source": [
    "# Write the code below\n",
    "Test_Data = pd.merge(X_test, y_test, left_index = True, right_index = True)\n",
    "df_pred = pd.DataFrame(y_predict, X_test.index)\n",
    "Check_Prediction = pd.merge(Test_Data, df_pred, left_index = True, right_index = True)\n",
    "Check_Prediction.rename(columns = {0: 'y_prediction'}, inplace = True)\n",
    "Check_Prediction.head()"
   ]
  },
  {
   "cell_type": "markdown",
   "metadata": {
    "id": "PAQmE2lraF55"
   },
   "source": [
    "We will calculate the accuracy now :"
   ]
  },
  {
   "cell_type": "code",
   "execution_count": 122,
   "metadata": {
    "id": "p_G7wBru2HZT"
   },
   "outputs": [],
   "source": [
    "# Question 6) :Calculate the accuracy obtained for the algorithm used above\n",
    "#             Assign the accuracy to ans[5] and store it as 'Accuracy_k2_NearestNeighbours'"
   ]
  },
  {
   "cell_type": "code",
   "execution_count": 123,
   "metadata": {
    "id": "BpdEvNnj2HZT"
   },
   "outputs": [
    {
     "name": "stdout",
     "output_type": "stream",
     "text": [
      "Accuracy is: 85.9375\n"
     ]
    }
   ],
   "source": [
    "#NOTE - Accuracy = Correct_Predictions/Total_Predictions\n",
    "#Write the code below\n",
    "Correct_Predictions = 0\n",
    "Total_Predictions = X_test.shape[0]\n",
    "for i in list(Check_Prediction.index):\n",
    "    if Check_Prediction.loc[i, 'Species_encoded'] == Check_Prediction.loc[i, 'y_prediction']:\n",
    "        Correct_Predictions += 1\n",
    "\n",
    "# 1 mark\n",
    "Accuracy_k2_NearestNeighbours = ans[5] = Correct_Predictions/Total_Predictions\n",
    "print(\"Accuracy is:\", ans[5]*100)"
   ]
  },
  {
   "cell_type": "markdown",
   "metadata": {
    "id": "2AepSoF4aF58"
   },
   "source": [
    "As we can see, when k is too small, it is better than Nearest Neighbour but __A__ accurate than k = 5.\n",
    "\n"
   ]
  },
  {
   "cell_type": "code",
   "execution_count": 124,
   "metadata": {
    "id": "y1PQAA7m9Ohf"
   },
   "outputs": [],
   "source": [
    "#Question 7) What will come inplace of A \n",
    "#            Assign the answer to ans[6] for A \n",
    "# A = less or more? Write your response as \"less\" or \"more\" to the ans[6].\n",
    "# Answer is case sensitive. Adhere to the choices given."
   ]
  },
  {
   "cell_type": "code",
   "execution_count": 125,
   "metadata": {
    "id": "e3kA0eBi9fy1"
   },
   "outputs": [],
   "source": [
    "# 1 marks\n",
    "ans[6] = \"less\""
   ]
  },
  {
   "cell_type": "markdown",
   "metadata": {
    "id": "SxPf-gq6dQvO"
   },
   "source": [
    "Now let us see when k is large, for example k = 12 :"
   ]
  },
  {
   "cell_type": "code",
   "execution_count": 126,
   "metadata": {
    "id": "KDQV9-_R26rN"
   },
   "outputs": [],
   "source": [
    "# Now implement KNN algorithm with k = 12"
   ]
  },
  {
   "cell_type": "code",
   "execution_count": 127,
   "metadata": {
    "id": "Yg2JI9FwcVOX"
   },
   "outputs": [],
   "source": [
    "start_time = time.time()\n",
    "k = 12\n",
    "y_predict = []\n",
    "#Write the code below\n",
    "for i in list(X_test.index):\n",
    "    dis = []\n",
    "    for j in list(X_train.index):\n",
    "        new_dis = (X_test.loc[i, 'sepal length (cm)'] - X_train.loc[j, 'sepal length (cm)'])**2 + (X_test.loc[i, 'petal width (cm)'] - X_train.loc[j, 'petal width (cm)'])**2\n",
    "        dis.append([new_dis, y.loc[j, 'Species_encoded']])\n",
    "    dis.sort()\n",
    "    dis = dis[:k]\n",
    "    count_0 = 0\n",
    "    count_1 = 0\n",
    "    count_2 = 0\n",
    "    for item in dis:\n",
    "        if item[1] == 0:\n",
    "            count_0 += 1\n",
    "        elif item[1] == 1:\n",
    "            count_1 += 1\n",
    "        else:\n",
    "            count_2 += 1\n",
    "    \n",
    "    temp_arr = [[count_0, 0], [count_1, 1], [count_2, 2]]\n",
    "    temp_arr.sort()\n",
    "    y_predict.append(temp_arr[-1][1])\n",
    "\n",
    "\n",
    "time_k12_NN = time.time() - start_time"
   ]
  },
  {
   "cell_type": "code",
   "execution_count": 128,
   "metadata": {
    "id": "SG7GuZyMcVOb"
   },
   "outputs": [],
   "source": [
    "# a):Concatenate X_test and y_test dataframe by column and assign it to the new dataframe 'Test_Data'\n",
    "# b):Concatenate Test_data and Predicted dataframe by column assign it to the new dataframe 'Check_Prediction'"
   ]
  },
  {
   "cell_type": "code",
   "execution_count": 129,
   "metadata": {
    "id": "qY751odXdn5W"
   },
   "outputs": [
    {
     "data": {
      "text/html": [
       "<div>\n",
       "<style scoped>\n",
       "    .dataframe tbody tr th:only-of-type {\n",
       "        vertical-align: middle;\n",
       "    }\n",
       "\n",
       "    .dataframe tbody tr th {\n",
       "        vertical-align: top;\n",
       "    }\n",
       "\n",
       "    .dataframe thead th {\n",
       "        text-align: right;\n",
       "    }\n",
       "</style>\n",
       "<table border=\"1\" class=\"dataframe\">\n",
       "  <thead>\n",
       "    <tr style=\"text-align: right;\">\n",
       "      <th></th>\n",
       "      <th>sepal length (cm)</th>\n",
       "      <th>petal width (cm)</th>\n",
       "      <th>Species_encoded</th>\n",
       "      <th>y_prediction</th>\n",
       "    </tr>\n",
       "  </thead>\n",
       "  <tbody>\n",
       "    <tr>\n",
       "      <th>47</th>\n",
       "      <td>4.6</td>\n",
       "      <td>0.2</td>\n",
       "      <td>0</td>\n",
       "      <td>0</td>\n",
       "    </tr>\n",
       "    <tr>\n",
       "      <th>3</th>\n",
       "      <td>4.6</td>\n",
       "      <td>0.2</td>\n",
       "      <td>0</td>\n",
       "      <td>0</td>\n",
       "    </tr>\n",
       "    <tr>\n",
       "      <th>31</th>\n",
       "      <td>5.4</td>\n",
       "      <td>0.4</td>\n",
       "      <td>0</td>\n",
       "      <td>0</td>\n",
       "    </tr>\n",
       "    <tr>\n",
       "      <th>25</th>\n",
       "      <td>5.0</td>\n",
       "      <td>0.2</td>\n",
       "      <td>0</td>\n",
       "      <td>0</td>\n",
       "    </tr>\n",
       "    <tr>\n",
       "      <th>15</th>\n",
       "      <td>5.7</td>\n",
       "      <td>0.4</td>\n",
       "      <td>0</td>\n",
       "      <td>0</td>\n",
       "    </tr>\n",
       "  </tbody>\n",
       "</table>\n",
       "</div>"
      ],
      "text/plain": [
       "    sepal length (cm)  petal width (cm)  Species_encoded  y_prediction\n",
       "47                4.6               0.2                0             0\n",
       "3                 4.6               0.2                0             0\n",
       "31                5.4               0.4                0             0\n",
       "25                5.0               0.2                0             0\n",
       "15                5.7               0.4                0             0"
      ]
     },
     "execution_count": 129,
     "metadata": {},
     "output_type": "execute_result"
    }
   ],
   "source": [
    "#Write the code below\n",
    "\n",
    "Test_Data = pd.merge(X_test, y_test, left_index = True, right_index = True)\n",
    "df_pred = pd.DataFrame(y_predict, X_test.index)\n",
    "Check_Prediction = pd.merge(Test_Data, df_pred, left_index = True, right_index = True)\n",
    "Check_Prediction.rename(columns = {0: 'y_prediction'}, inplace = True)\n",
    "Check_Prediction.head()"
   ]
  },
  {
   "cell_type": "markdown",
   "metadata": {
    "id": "6CVyENsMcVOd"
   },
   "source": [
    "We will calculate the accuracy now :"
   ]
  },
  {
   "cell_type": "code",
   "execution_count": 130,
   "metadata": {
    "id": "WesRmsvV3JIc"
   },
   "outputs": [],
   "source": [
    "# Question 8) :Calculate the accuracy obtained for the algorithm used above\n",
    "#              Assign the accuracy to ans[7] and store it as 'Accuracy_k12_NearestNeighbours'"
   ]
  },
  {
   "cell_type": "code",
   "execution_count": 131,
   "metadata": {
    "id": "frhJJzlv3JIc"
   },
   "outputs": [
    {
     "name": "stdout",
     "output_type": "stream",
     "text": [
      "Accuracy is: 93.75\n"
     ]
    }
   ],
   "source": [
    "#NOTE - Accuracy = Correct_Predictions/Total_Predictions\n",
    "#Write the code below\n",
    "Correct_Predictions = 0\n",
    "Total_Predictions = X_test.shape[0]\n",
    "for i in list(Check_Prediction.index):\n",
    "    if Check_Prediction.loc[i, 'Species_encoded'] == Check_Prediction.loc[i, 'y_prediction']:\n",
    "        Correct_Predictions += 1\n",
    "\n",
    "# 1 mark\n",
    "Accuracy_k12_NearestNeighbours = ans[7] = Correct_Predictions/Total_Predictions\n",
    "print(\"Accuracy is:\", ans[7]*100)"
   ]
  },
  {
   "cell_type": "markdown",
   "metadata": {
    "id": "XL9xXPYlc4kY"
   },
   "source": [
    "We see that the accuracy is good but it is lower than when k = 5. This is because when the dataset is small and the value of k is too big, it looks at too many points in the surrounding and sometimes gets the wrong prediction about which class it belongs to."
   ]
  },
  {
   "cell_type": "markdown",
   "metadata": {
    "id": "E00_t_Zlwq88"
   },
   "source": [
    "**8) Nearest Mean Classification**\n",
    "\n",
    "Here we take the mean for each of the classes and compare the test cases with them to reduce computational time."
   ]
  },
  {
   "cell_type": "code",
   "execution_count": 132,
   "metadata": {
    "id": "fUjxOuL_vsRe"
   },
   "outputs": [],
   "source": [
    "setosa_PetalWidth = setosa['petal width (cm)'].mean()                         # Calculate the mean for all the features of all the classes\n",
    "setosa_SepalLength = setosa['sepal length (cm)'].mean()\n",
    "\n",
    "virginica_PetalWidth = virginica['petal width (cm)'].mean()\n",
    "virginica_SepalLength = virginica['sepal length (cm)'].mean()\n",
    "\n",
    "versicolor_PetalWidth = versicolor['petal width (cm)'].mean()\n",
    "versicolor_SepalLength = versicolor['sepal length (cm)'].mean()"
   ]
  },
  {
   "cell_type": "code",
   "execution_count": 133,
   "metadata": {
    "id": "NsP2J79C4xo2"
   },
   "outputs": [],
   "source": [
    "# Algorithm - Calculate the Euclidian distance for each test dataset by comparing with mean of every class\n",
    "#            The predicited class is the minimum value obtained from all the Euclidian distance calculated for that test datapoint "
   ]
  },
  {
   "cell_type": "code",
   "execution_count": 134,
   "metadata": {
    "id": "RiKS0mxgxGV3"
   },
   "outputs": [],
   "source": [
    "start_time = time.time()\n",
    "y_predict = []\n",
    "#Write the code below\n",
    "for i in list(X_test.index):\n",
    "    best_dis = pow(10, 9)\n",
    "    best_pred = -1\n",
    "    \n",
    "    dis = (X_test.loc[i, 'sepal length (cm)'] - setosa_SepalLength)**2 + (X_test.loc[i, 'petal width (cm)'] - setosa_PetalWidth)**2\n",
    "    if best_dis > dis:\n",
    "        best_dis = dis\n",
    "        best_pred = 0\n",
    "    dis = (X_test.loc[i, 'sepal length (cm)'] - virginica_SepalLength)**2 + (X_test.loc[i, 'petal width (cm)'] - virginica_PetalWidth)**2\n",
    "    if best_dis > dis:\n",
    "        best_dis = dis\n",
    "        best_pred = 2\n",
    "    dis = (X_test.loc[i, 'sepal length (cm)'] - versicolor_SepalLength)**2 + (X_test.loc[i, 'petal width (cm)'] - versicolor_PetalWidth)**2\n",
    "    if best_dis > dis:\n",
    "        best_dis = dis\n",
    "        best_pred = 1\n",
    "    y_predict.append(best_pred)\n",
    "\n",
    "time_NM = time.time() - start_time"
   ]
  },
  {
   "cell_type": "code",
   "execution_count": 135,
   "metadata": {
    "id": "kOAwdVn-XdNL"
   },
   "outputs": [],
   "source": [
    "# a):Concatenate X_test and y_test dataframe by column and assign it to the new dataframe 'Test_Data'\n",
    "# b):Concatenate Test_data and Predicted dataframe by column assign it to the new dataframe 'Check_Prediction'"
   ]
  },
  {
   "cell_type": "code",
   "execution_count": 136,
   "metadata": {
    "id": "JKuE_0hFdkwe"
   },
   "outputs": [
    {
     "data": {
      "text/html": [
       "<div>\n",
       "<style scoped>\n",
       "    .dataframe tbody tr th:only-of-type {\n",
       "        vertical-align: middle;\n",
       "    }\n",
       "\n",
       "    .dataframe tbody tr th {\n",
       "        vertical-align: top;\n",
       "    }\n",
       "\n",
       "    .dataframe thead th {\n",
       "        text-align: right;\n",
       "    }\n",
       "</style>\n",
       "<table border=\"1\" class=\"dataframe\">\n",
       "  <thead>\n",
       "    <tr style=\"text-align: right;\">\n",
       "      <th></th>\n",
       "      <th>sepal length (cm)</th>\n",
       "      <th>petal width (cm)</th>\n",
       "      <th>Species_encoded</th>\n",
       "      <th>y_prediction</th>\n",
       "    </tr>\n",
       "  </thead>\n",
       "  <tbody>\n",
       "    <tr>\n",
       "      <th>47</th>\n",
       "      <td>4.6</td>\n",
       "      <td>0.2</td>\n",
       "      <td>0</td>\n",
       "      <td>0</td>\n",
       "    </tr>\n",
       "    <tr>\n",
       "      <th>3</th>\n",
       "      <td>4.6</td>\n",
       "      <td>0.2</td>\n",
       "      <td>0</td>\n",
       "      <td>0</td>\n",
       "    </tr>\n",
       "    <tr>\n",
       "      <th>31</th>\n",
       "      <td>5.4</td>\n",
       "      <td>0.4</td>\n",
       "      <td>0</td>\n",
       "      <td>0</td>\n",
       "    </tr>\n",
       "    <tr>\n",
       "      <th>25</th>\n",
       "      <td>5.0</td>\n",
       "      <td>0.2</td>\n",
       "      <td>0</td>\n",
       "      <td>0</td>\n",
       "    </tr>\n",
       "    <tr>\n",
       "      <th>15</th>\n",
       "      <td>5.7</td>\n",
       "      <td>0.4</td>\n",
       "      <td>0</td>\n",
       "      <td>0</td>\n",
       "    </tr>\n",
       "  </tbody>\n",
       "</table>\n",
       "</div>"
      ],
      "text/plain": [
       "    sepal length (cm)  petal width (cm)  Species_encoded  y_prediction\n",
       "47                4.6               0.2                0             0\n",
       "3                 4.6               0.2                0             0\n",
       "31                5.4               0.4                0             0\n",
       "25                5.0               0.2                0             0\n",
       "15                5.7               0.4                0             0"
      ]
     },
     "execution_count": 136,
     "metadata": {},
     "output_type": "execute_result"
    }
   ],
   "source": [
    "#Write the code below\n",
    "\n",
    "Test_Data = pd.merge(X_test, y_test, left_index = True, right_index = True)\n",
    "df_pred = pd.DataFrame(y_predict, X_test.index)\n",
    "Check_Prediction = pd.merge(Test_Data, df_pred, left_index = True, right_index = True)\n",
    "Check_Prediction.rename(columns = {0: 'y_prediction'}, inplace = True)\n",
    "Check_Prediction.head()"
   ]
  },
  {
   "cell_type": "markdown",
   "metadata": {
    "id": "mGLQqIa8XdNO"
   },
   "source": [
    "We will calculate the accuracy now :"
   ]
  },
  {
   "cell_type": "code",
   "execution_count": 137,
   "metadata": {
    "id": "cWjfMLG-53de"
   },
   "outputs": [],
   "source": [
    "# Question 9) :Calculate the accuracy obtained for the algorithm used above\n",
    "#              Assign the accuracy to ans[8] and store it as 'Accuracy_NearestMean'"
   ]
  },
  {
   "cell_type": "code",
   "execution_count": 138,
   "metadata": {
    "id": "O2wX75VG53de"
   },
   "outputs": [
    {
     "name": "stdout",
     "output_type": "stream",
     "text": [
      "Accuracy is: 81.25\n"
     ]
    }
   ],
   "source": [
    "Correct_Predictions = 0\n",
    "Total_Predictions = X_test.shape[0]\n",
    "for i in list(Check_Prediction.index):\n",
    "    if Check_Prediction.loc[i, 'Species_encoded'] == Check_Prediction.loc[i, 'y_prediction']:\n",
    "        Correct_Predictions += 1\n",
    "\n",
    "# 1 mark\n",
    "Accuracy_NearestMean = ans[8] = Correct_Predictions/Total_Predictions\n",
    "print(\"Accuracy is:\", ans[8]*100)"
   ]
  },
  {
   "cell_type": "markdown",
   "metadata": {
    "id": "UvlN-5zaXdNR"
   },
   "source": [
    "Now let us have a look at the values that we did not predicted correctly :"
   ]
  },
  {
   "cell_type": "code",
   "execution_count": 139,
   "metadata": {
    "id": "8ffJPAGZ6EEg"
   },
   "outputs": [
    {
     "data": {
      "image/png": "[encoded data removed]",
      "text/plain": [
       "<Figure size 432x288 with 1 Axes>"
      ]
     },
     "metadata": {
      "needs_background": "light"
     },
     "output_type": "display_data"
    }
   ],
   "source": [
    "#Plot the data categorywise using scatter plot and visualize the data. Also include labels and legend.\n",
    "# Write the code below\n",
    "\n",
    "setosa = Test_Data[Test_Data['Species_encoded'] == 0]          \n",
    "versicolor = Test_Data[Test_Data['Species_encoded'] == 1]\n",
    "virginica = Test_Data[Test_Data['Species_encoded'] == 2]\n",
    "\n",
    "plt.scatter(setosa['sepal length (cm)'], setosa['petal width (cm)'], color = 'r')\n",
    "plt.scatter(versicolor['sepal length (cm)'], versicolor['petal width (cm)'], color = 'b')\n",
    "plt.scatter(virginica['sepal length (cm)'], virginica['petal width (cm)'], color = 'g')\n",
    "plt.xlabel('sepal length (cm)')\n",
    "plt.xlabel('sepal length (cm)')\n",
    "plt.ylabel('petal width (cm)')\n",
    "plt.title('Scatter Plot')\n",
    "plt.legend(['setosa', 'versicolor', 'virginica'])\n",
    "\n",
    "\n",
    "\n",
    "\n",
    "#Implement the below code snippet to see the values that were not predicted correctly\n",
    "for index in list(Check_Prediction.index):\n",
    "    if(Check_Prediction['Species_encoded'][index]==Check_Prediction['y_prediction'][index]):\n",
    "        plt.scatter(Check_Prediction['sepal length (cm)'][index],Check_Prediction['petal width (cm)'][index],marker='x',c='m')\n",
    "    else:\n",
    "        plt.scatter(Check_Prediction['sepal length (cm)'][index],Check_Prediction['petal width (cm)'][index],marker='*',c='y')"
   ]
  },
  {
   "cell_type": "markdown",
   "metadata": {
    "id": "DBMGlXuIzne2"
   },
   "source": [
    "We should only use this method if time complexity is really important to us as this method estimates the boundary just based on the mean which cannot be always relied on. Hence we see that as the mean of Green and Blue are close together, there are many wrong predictions in that region."
   ]
  },
  {
   "cell_type": "markdown",
   "metadata": {
    "id": "5LXFnIyY7aLu"
   },
   "source": [
    "**9) Compare Results**"
   ]
  },
  {
   "cell_type": "code",
   "execution_count": 140,
   "metadata": {
    "id": "Q534dbt_0fvi"
   },
   "outputs": [
    {
     "name": "stdout",
     "output_type": "stream",
     "text": [
      "ACCURACIES:\n",
      "\n",
      "Nearest Neighbours= 0.9\n",
      "K Nearest Neighbours(k = 5) = 0.9666666666666667\n",
      "K Nearest Neighbours(k = 2) = 0.859375\n",
      "K Nearest Neighbours(k = 12) = 0.9375\n",
      "Nearest Mean= 0.8125\n",
      "=========================================================================\n",
      "TIMINGS:\n",
      "\n",
      "Nearest Neighbours= 0.14461278915405273\n",
      "K Nearest Neighbours(k = 5) = 0.16034746170043945\n",
      "K Nearest Neighbours(k = 2) = 0.17649364471435547\n",
      "K Nearest Neighbours(k = 12) = 0.18645906448364258\n",
      "Nearest Mean= 0.002994060516357422\n",
      "=========================================================================\n"
     ]
    }
   ],
   "source": [
    "# Do not make changes in this cell\n",
    "# Simply execute it and move on\n",
    "print(\"ACCURACIES:\\n\")\n",
    "print(\"Nearest Neighbours=\",Accuracy_NearestNeighbours)\n",
    "print(\"K Nearest Neighbours(k = 5) =\",Accuracy_k5_NearestNeighbours)\n",
    "print(\"K Nearest Neighbours(k = 2) =\",Accuracy_k2_NearestNeighbours)\n",
    "print(\"K Nearest Neighbours(k = 12) =\",Accuracy_k12_NearestNeighbours)\n",
    "print(\"Nearest Mean=\",Accuracy_NearestMean)\n",
    "print(\"=========================================================================\")\n",
    "print(\"TIMINGS:\\n\")\n",
    "print(\"Nearest Neighbours=\",time_NN)\n",
    "print(\"K Nearest Neighbours(k = 5) =\",time_k5_NN)\n",
    "print(\"K Nearest Neighbours(k = 2) =\",time_k2_NN)\n",
    "print(\"K Nearest Neighbours(k = 12) =\",time_k12_NN)\n",
    "print(\"Nearest Mean=\",time_NM)\n",
    "print(\"=========================================================================\")"
   ]
  },
  {
   "cell_type": "markdown",
   "metadata": {
    "id": "BlAlz9e2fX0Y"
   },
   "source": [
    "On comparing the 3 timings of kNN, we see that the model with least k takes the __B__ time. It feels wrong but it does makes sense. I will explain why.\n",
    "\n",
    "When k is low, the decision boundary changes a lot of times, ie there is a sudden change in the class in a small distance, while when k is large, the decision boundary is smoother and does not changes as often which helps when it comes to time complexity."
   ]
  },
  {
   "cell_type": "code",
   "execution_count": 141,
   "metadata": {
    "id": "OS-Q6NNfeg5G"
   },
   "outputs": [],
   "source": [
    "#Question 10) What will come inplace of B \n",
    "#            Assign the answer to ans[9] for B \n",
    "# B = highest or lowest? Write your response as \"highest\" or \"lowest\" to the ans[9].\n",
    "# Answer is case sensitive. Adhere to the choices given."
   ]
  },
  {
   "cell_type": "code",
   "execution_count": 142,
   "metadata": {
    "id": "acY-paqEekLA"
   },
   "outputs": [],
   "source": [
    "# 1 marks\n",
    "ans[9] =  \"lowest\""
   ]
  },
  {
   "cell_type": "markdown",
   "metadata": {
    "id": "iHuE2_8j218i"
   },
   "source": [
    "On comparing the 3 plots, we can see that most of the errors occur at the boundary of 2 different classes. We reduce it slightly using the k nearest neighbours but not completely. \n",
    "\n",
    "Although Nearest mean has a significantly lower time than the other 2 processes, it is not a preffered method. It is because it has very low accuracy and it is very uncertain.\n",
    "\n",
    "The most preffered algorithm is the k nearest neighbour algorithm as it gives very good accuracy as well as acceptable runtime."
   ]
  },
  {
   "cell_type": "markdown",
   "metadata": {
    "id": "OIf1KR2Sf-vP"
   },
   "source": [
    "**sklearn Library**"
   ]
  },
  {
   "cell_type": "markdown",
   "metadata": {
    "id": "vgcrHnVKgExY"
   },
   "source": [
    "There is an inbuilt function to directly perform kNN from sklearn library."
   ]
  },
  {
   "cell_type": "code",
   "execution_count": 143,
   "metadata": {
    "id": "e-0-jShel5GV"
   },
   "outputs": [],
   "source": [
    "# Do not make changes in the below cells\n",
    "# Simply execute it and move on"
   ]
  },
  {
   "cell_type": "code",
   "execution_count": 144,
   "metadata": {
    "id": "hR4B5bIbgD9k"
   },
   "outputs": [],
   "source": [
    "# Import the library\n",
    "\n",
    "from sklearn.neighbors import KNeighborsClassifier "
   ]
  },
  {
   "cell_type": "markdown",
   "metadata": {
    "id": "FTsAEdWpg0qm"
   },
   "source": [
    "We will first do for k = 4"
   ]
  },
  {
   "cell_type": "code",
   "execution_count": 145,
   "metadata": {
    "id": "L7zbW464gplX"
   },
   "outputs": [
    {
     "name": "stdout",
     "output_type": "stream",
     "text": [
      "[0 0 0 0 0 2 1 0 2 1 1 0 1 1 2 0 1 2 2 0 2 2 2 1 0 2 1 1 1 1 0 0 2 1 0 0 1\n",
      " 0 2 1 2 1 0 0 2 1 0 1 2 1 0 0 2 1 1 0 2 0 2 1 1 1 1 1]\n"
     ]
    },
    {
     "name": "stderr",
     "output_type": "stream",
     "text": [
      "D:\\MyApplications\\Anaconda\\lib\\site-packages\\ipykernel_launcher.py:2: DataConversionWarning: A column-vector y was passed when a 1d array was expected. Please change the shape of y to (n_samples, ), for example using ravel().\n",
      "  \n"
     ]
    }
   ],
   "source": [
    "neigh = KNeighborsClassifier(n_neighbors=4)\n",
    "neigh.fit(X_train,y_train)\n",
    "Predicted = neigh.predict(X_test)\n",
    "print(Predicted)"
   ]
  },
  {
   "cell_type": "markdown",
   "metadata": {
    "id": "VUWpQ5DFhf4s"
   },
   "source": [
    "sklearn also has a funtion to calculate accuracy"
   ]
  },
  {
   "cell_type": "code",
   "execution_count": 146,
   "metadata": {
    "id": "6vaxkYyagtoB"
   },
   "outputs": [
    {
     "name": "stdout",
     "output_type": "stream",
     "text": [
      "Accuracy =  0.953125\n"
     ]
    }
   ],
   "source": [
    "#Import scikit-learn metrics module for accuracy calculation\n",
    "from sklearn import metrics\n",
    "# Model Accuracy, how often is the classifier correct?\n",
    "print(\"Accuracy = \",metrics.accuracy_score(y_test,Predicted))"
   ]
  },
  {
   "cell_type": "code",
   "execution_count": 147,
   "metadata": {
    "collapsed": true,
    "id": "At5RTZpqK3e0"
   },
   "outputs": [
    {
     "ename": "NameError",
     "evalue": "name 'json' is not defined",
     "output_type": "error",
     "traceback": [
      "\u001b[1;31m---------------------------------------------------------------------------\u001b[0m",
      "\u001b[1;31mNameError\u001b[0m                                 Traceback (most recent call last)",
      "\u001b[1;32m<ipython-input-147-e9c26de3d15b>\u001b[0m in \u001b[0;36m<module>\u001b[1;34m\u001b[0m\n\u001b[0;32m      5\u001b[0m \u001b[0mans\u001b[0m \u001b[1;33m=\u001b[0m \u001b[1;33m[\u001b[0m\u001b[0mitem\u001b[0m \u001b[1;32mfor\u001b[0m \u001b[0mitem\u001b[0m \u001b[1;32min\u001b[0m \u001b[0mans\u001b[0m\u001b[1;33m]\u001b[0m\u001b[1;33m\u001b[0m\u001b[1;33m\u001b[0m\u001b[0m\n\u001b[0;32m      6\u001b[0m \u001b[1;32mwith\u001b[0m \u001b[0mopen\u001b[0m\u001b[1;33m(\u001b[0m\u001b[1;34m'ans.json'\u001b[0m\u001b[1;33m,\u001b[0m \u001b[1;34m'w'\u001b[0m\u001b[1;33m)\u001b[0m \u001b[1;32mas\u001b[0m \u001b[0mf\u001b[0m\u001b[1;33m:\u001b[0m\u001b[1;33m\u001b[0m\u001b[1;33m\u001b[0m\u001b[0m\n\u001b[1;32m----> 7\u001b[1;33m     \u001b[0mjson\u001b[0m\u001b[1;33m.\u001b[0m\u001b[0mdump\u001b[0m\u001b[1;33m(\u001b[0m\u001b[0mans\u001b[0m\u001b[1;33m,\u001b[0m \u001b[0mf\u001b[0m\u001b[1;33m)\u001b[0m\u001b[1;33m\u001b[0m\u001b[1;33m\u001b[0m\u001b[0m\n\u001b[0m",
      "\u001b[1;31mNameError\u001b[0m: name 'json' is not defined"
     ]
    }
   ],
   "source": [
    "# Run the this cell to submit your answers and get score evaluated\"\n",
    "# Do not make any changes in this cell\n",
    "# Simply execute it and move on\n",
    "\n",
    "ans = [item for item in ans]\n",
    "with open('ans.json', 'w') as f:\n",
    "    json.dump(ans, f)"
   ]
  },
  {
   "cell_type": "code",
   "execution_count": null,
   "metadata": {},
   "outputs": [],
   "source": [
    "! ../submit ans.json"
   ]
  },
  {
   "cell_type": "markdown",
   "metadata": {
    "id": "8QQD6620h0fw"
   },
   "source": [
    "That is all for Tutorial 6."
   ]
  }
 ],
 "metadata": {
  "colab": {
   "collapsed_sections": [],
   "name": "KNN(Project)-Akshat_Kumar_Gupta.ipynb",
   "provenance": [],
   "toc_visible": true
  },
  "kernelspec": {
   "display_name": "Python 3",
   "language": "python",
   "name": "python3"
  },
  "language_info": {
   "codemirror_mode": {
    "name": "ipython",
    "version": 3
   },
   "file_extension": ".py",
   "mimetype": "text/x-python",
   "name": "python",
   "nbconvert_exporter": "python",
   "pygments_lexer": "ipython3",
   "version": "3.7.6"
  }
 },
 "nbformat": 4,
 "nbformat_minor": 1
}
